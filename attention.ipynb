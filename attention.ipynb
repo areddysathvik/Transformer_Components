{
  "nbformat": 4,
  "nbformat_minor": 0,
  "metadata": {
    "colab": {
      "provenance": [],
      "authorship_tag": "ABX9TyOazb8EGkJ85p+Jd4mqyjGR",
      "include_colab_link": true
    },
    "kernelspec": {
      "name": "python3",
      "display_name": "Python 3"
    },
    "language_info": {
      "name": "python"
    }
  },
  "cells": [
    {
      "cell_type": "markdown",
      "metadata": {
        "id": "view-in-github",
        "colab_type": "text"
      },
      "source": [
        "<a href=\"https://colab.research.google.com/github/areddysathvik/Transformer_Components/blob/main/attention.ipynb\" target=\"_parent\"><img src=\"https://colab.research.google.com/assets/colab-badge.svg\" alt=\"Open In Colab\"/></a>"
      ]
    },
    {
      "cell_type": "code",
      "execution_count": 1,
      "metadata": {
        "id": "3Al87Ys-xFAq"
      },
      "outputs": [],
      "source": [
        "import numpy as np"
      ]
    },
    {
      "cell_type": "code",
      "source": [
        "L,d_k,d_v = 4,10,10\n",
        "\n",
        "K = np.random.randn(L,d_k)\n",
        "Q = np.random.randn(L,d_v)\n",
        "V = np.random.randn(L,d_v)"
      ],
      "metadata": {
        "id": "FUmBgwiFxJwy"
      },
      "execution_count": 127,
      "outputs": []
    },
    {
      "cell_type": "code",
      "source": [
        "dt = K @ Q.T"
      ],
      "metadata": {
        "id": "SWxGbyWPHSol"
      },
      "execution_count": 115,
      "outputs": []
    },
    {
      "cell_type": "code",
      "source": [
        "K.var(),Q.var(),V.var(),dt.var()"
      ],
      "metadata": {
        "colab": {
          "base_uri": "https://localhost:8080/"
        },
        "id": "qMC41bMb_d5v",
        "outputId": "6e0ee9d8-625a-4c24-abf0-06366497fe02"
      },
      "execution_count": 42,
      "outputs": [
        {
          "output_type": "execute_result",
          "data": {
            "text/plain": [
              "(0.7171592691962955,\n",
              " 0.46114107720190434,\n",
              " 1.1683414989513496,\n",
              " 4.303430384932198)"
            ]
          },
          "metadata": {},
          "execution_count": 42
        }
      ]
    },
    {
      "cell_type": "code",
      "source": [
        "dt = dt / np.sqrt(d_k)"
      ],
      "metadata": {
        "id": "fttV7w6g_u9h"
      },
      "execution_count": 116,
      "outputs": []
    },
    {
      "cell_type": "code",
      "source": [
        "dt.var()"
      ],
      "metadata": {
        "colab": {
          "base_uri": "https://localhost:8080/"
        },
        "id": "yGqBFIwVAvp3",
        "outputId": "58a1f899-933e-47c0-c523-9d623107beb4"
      },
      "execution_count": 117,
      "outputs": [
        {
          "output_type": "execute_result",
          "data": {
            "text/plain": [
              "0.9722604237505874"
            ]
          },
          "metadata": {},
          "execution_count": 117
        }
      ]
    },
    {
      "cell_type": "code",
      "source": [
        "import scipy"
      ],
      "metadata": {
        "id": "qszDbu68xRDV"
      },
      "execution_count": 118,
      "outputs": []
    },
    {
      "cell_type": "code",
      "source": [
        "mask = np.tril(np.ones ((L,L)) )\n",
        "\n",
        "mask[mask == 0] = -np.infty\n",
        "mask[mask == 1] = 0\n",
        "\n",
        "masked = mask + dt\n",
        "\n",
        "masked"
      ],
      "metadata": {
        "colab": {
          "base_uri": "https://localhost:8080/"
        },
        "id": "balLrc1c_KDe",
        "outputId": "45dbf25c-12fb-42b5-e1ab-b55e0fc437a2"
      },
      "execution_count": 119,
      "outputs": [
        {
          "output_type": "execute_result",
          "data": {
            "text/plain": [
              "array([[-1.41307286,        -inf,        -inf,        -inf],\n",
              "       [-0.27883346, -0.52441619,        -inf,        -inf],\n",
              "       [ 0.46099882, -0.34021914,  1.01282492,        -inf],\n",
              "       [ 1.93868286, -0.47914788, -1.00493997, -0.3738275 ]])"
            ]
          },
          "metadata": {},
          "execution_count": 119
        }
      ]
    },
    {
      "cell_type": "code",
      "source": [
        "def softmax(x):\n",
        "  return (np.exp(x).T / np.sum(np.exp(x), axis=-1)).T\n",
        "\n",
        "attention = scipy.special.softmax(masked)"
      ],
      "metadata": {
        "id": "aEf0ywNpCRPU"
      },
      "execution_count": 124,
      "outputs": []
    },
    {
      "cell_type": "code",
      "source": [
        "np.matmul(attention,V)"
      ],
      "metadata": {
        "colab": {
          "base_uri": "https://localhost:8080/"
        },
        "id": "ZFoQV407CuWe",
        "outputId": "d72a562c-6958-4d19-c98b-0ff74bd712c6"
      },
      "execution_count": 125,
      "outputs": [
        {
          "output_type": "execute_result",
          "data": {
            "text/plain": [
              "array([[-0.01059704, -0.01291357, -0.00451216,  0.00695956, -0.01196346,\n",
              "        -0.02043801, -0.02489792,  0.01852363,  0.0128664 , -0.00756745],\n",
              "       [-0.06023366, -0.05099197, -0.03966721,  0.1061174 , -0.03660663,\n",
              "        -0.05810033, -0.04949574,  0.01144842, -0.01965042, -0.03853441],\n",
              "       [ 0.13486884, -0.13286218, -0.08619847,  0.01988857, -0.32172938,\n",
              "        -0.07103558, -0.16781587,  0.32046752, -0.25475584, -0.15392944],\n",
              "       [-0.23393335, -0.36260397, -0.19598512,  0.28440495, -0.31846259,\n",
              "        -0.58801015, -0.66571771,  0.49683879,  0.23537268, -0.26836059]])"
            ]
          },
          "metadata": {},
          "execution_count": 125
        }
      ]
    },
    {
      "cell_type": "code",
      "source": [
        "V"
      ],
      "metadata": {
        "colab": {
          "base_uri": "https://localhost:8080/"
        },
        "id": "sU-rYkpdDbUX",
        "outputId": "6a63f307-04ff-48f3-ccea-826cfb146818"
      },
      "execution_count": 126,
      "outputs": [
        {
          "output_type": "execute_result",
          "data": {
            "text/plain": [
              "array([[-0.66464539, -0.80993776, -0.28300235,  0.43650276, -0.75034707,\n",
              "        -1.28187012, -1.56159576,  1.16180062,  0.80697965, -0.47462999],\n",
              "       [-0.70382122, -0.2797328 , -0.66127302,  2.17885472,  0.01509972,\n",
              "         0.14023845,  0.71975043, -1.18994116, -1.5384178 , -0.38708688],\n",
              "       [ 1.31243307, -0.1978973 , -0.14402755, -0.70424136, -1.35556338,\n",
              "         0.30813361, -0.21713419,  1.41525275, -1.47958788, -0.4800587 ],\n",
              "       [ 1.45809959,  0.49270919, -0.81796076,  0.31467379,  1.22066963,\n",
              "        -0.38881371,  0.47023306, -0.39325701, -0.75668526, -0.55625673]])"
            ]
          },
          "metadata": {},
          "execution_count": 126
        }
      ]
    },
    {
      "cell_type": "code",
      "source": [],
      "metadata": {
        "id": "yS55oBA9Dd0e"
      },
      "execution_count": null,
      "outputs": []
    }
  ]
}